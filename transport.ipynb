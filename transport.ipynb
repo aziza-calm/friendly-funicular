{
 "cells": [
  {
   "cell_type": "markdown",
   "metadata": {},
   "source": [
    "Реальная матрица корреспонденции - trips.csv, ниже используется как матрица trips. Здесь происходит импорт матрицы. \n",
    "Сама марица содержит пять столбцов: первый - номера зон i, второй - номера зон j, третий - количество поездок из i в j, четвертый и пятый - время и среднее расстояние на путь из i в j."
   ]
  },
  {
   "cell_type": "code",
   "execution_count": 1,
   "metadata": {},
   "outputs": [
    {
     "name": "stdout",
     "output_type": "stream",
     "text": [
      "[[  1.    1.   40.   26.    2.2]\n",
      " [  1.    2.    4.   49.    8.1]\n",
      " [  1.    3.    3.   35.    6.8]\n",
      " ...\n",
      " [ 22.    1.    1.  140.   84.8]\n",
      " [ 22.    2.    3.  120.   72.6]\n",
      " [ 22.   22.   18.   25.    1.5]]\n"
     ]
    }
   ],
   "source": [
    "import pandas as pd\n",
    "import numpy as np\n",
    "from collections import Counter\n",
    "import matplotlib.pyplot as plt\n",
    "\n",
    "trips=np.array(pd.read_csv(r\"C:\\users\\Vityakter\\Gasnikov\\trips.csv\",encoding='cp866'))\n",
    "print(trips)"
   ]
  },
  {
   "cell_type": "markdown",
   "metadata": {},
   "source": [
    "T - количество поездок из пункта i в пункт j.\n",
    "O - количество отправлений из пункта i.\n",
    "D - количество прибытий в пункт j. \n",
    "Ниже производится подсчет перечисленных потоков. "
   ]
  },
  {
   "cell_type": "code",
   "execution_count": 2,
   "metadata": {},
   "outputs": [],
   "source": [
    "T=np.zeros([22,22])\n",
    "O=np.zeros([22])\n",
    "D=np.zeros([22])\n",
    "z=0\n",
    "for i in range(22):\n",
    "    O[i]=Counter(trips.T[0])[i+1]\n",
    "    D[i]=Counter(trips.T[1])[i+1]\n",
    "    tr=np.zeros([22])\n",
    "    for j in range(z,int(O[i])+z):\n",
    "        tr[int(trips[j][1])-1]=trips[j][2]\n",
    "        if j==int(O[i])+z-1:\n",
    "            z=int(O[i])+z\n",
    "    T[i]=tr"
   ]
  },
  {
   "cell_type": "markdown",
   "metadata": {},
   "source": [
    "Вводятся балансировочные коэффициенты A и B для отправлений из i и для прибытий в j соответсвенно. Изначально оба вектора заполняются единицами."
   ]
  },
  {
   "cell_type": "code",
   "execution_count": 3,
   "metadata": {},
   "outputs": [],
   "source": [
    "N=4\n",
    "A=np.zeros([N,22])\n",
    "B=np.zeros([N,22])\n",
    "for i in range(22):\n",
    "    A[0][i]=1\n",
    "    B[0][i]=1"
   ]
  },
  {
   "cell_type": "markdown",
   "metadata": {},
   "source": [
    "Матрица издержек подсчитывается из матрицы trips: четвертый и пятый столбцы в ней отвечают за время в пути и расстояние в среднем между пунктами i и j. Ниже c0 соответствует времени поездки, c1 - среднему расстояни между зонами."
   ]
  },
  {
   "cell_type": "code",
   "execution_count": 4,
   "metadata": {},
   "outputs": [],
   "source": [
    "c0=np.zeros([22,22])\n",
    "z=0\n",
    "for i in range(22):\n",
    "    tr=np.zeros([22])\n",
    "    for j in range(z,int(O[i])+z):\n",
    "        tr[int(trips[j][1])-1]=trips[j][3]\n",
    "        if j==int(O[i])+z-1:\n",
    "            z=int(O[i])+z\n",
    "    c0[i]=tr\n",
    "\n",
    "c1=np.zeros([22,22])\n",
    "z=0\n",
    "for i in range(22):\n",
    "    tr=np.zeros([22])\n",
    "    for j in range(z,int(O[i])+z):\n",
    "        tr[int(trips[j][1])-1]=trips[j][4]\n",
    "        if j==int(O[i])+z-1:\n",
    "            z=int(O[i])+z\n",
    "    c1[i]=tr"
   ]
  },
  {
   "cell_type": "markdown",
   "metadata": {},
   "source": [
    "Далее вводится гравитационная функция F, как экспонента от издержек (в данном случае под издержками понимается только среднее время поездок между зонами)."
   ]
  },
  {
   "cell_type": "code",
   "execution_count": 5,
   "metadata": {},
   "outputs": [],
   "source": [
    "def F(a):\n",
    "    F=np.zeros([22,22])\n",
    "    for i in range(22):\n",
    "        for j in range(22):\n",
    "            F[i][j]=np.exp(-a*c0[i][j])\n",
    "    return F"
   ]
  },
  {
   "cell_type": "markdown",
   "metadata": {},
   "source": [
    "Функция ниже реализует метод Синхорна для подсчета балансировочных коэффициентов A и B."
   ]
  },
  {
   "cell_type": "code",
   "execution_count": 10,
   "metadata": {},
   "outputs": [],
   "source": [
    "def t(a):\n",
    "    Ti=np.zeros([N,22,22])\n",
    "    f=F(a)\n",
    "    for k in range(N-1):\n",
    "        for i in range(22):\n",
    "            if k%2==0:\n",
    "                B[k+1]=B[k]\n",
    "                for p in range(22):\n",
    "                    A[k+1][i]+=(((B[k+1][p]*O[p]*f[i][p])**(-1)))\n",
    "            else:\n",
    "                A[k+1]=A[k]\n",
    "                for v in range(22):\n",
    "                    B[k+1][i]+=(((A[k+1][p]*D[p]*f[i][p])**(-1)))\n",
    "            for j in range(22):\n",
    "                Ti[k][i][j]=(A[k+1][i]*O[i]*D[j]*B[k+1][j])*f[i][j]\n",
    "    return Ti"
   ]
  },
  {
   "cell_type": "markdown",
   "metadata": {},
   "source": [
    "Далее, используя введённые функции, необходимо получить оптимальное значение параметра a, введённого в гравитационную функцию F выше (в показателе экспоеннты со знаком минус). Для этого необходимо решить следующую задачу: $$\\sum\\limits_{i,j} (T_{ij}-T_{ij} (a))^2 \\rightarrow \\underset{a}min.$$\n",
    "Первой написана функция, аргумент в которую передаётся значение a, на выходе получаем значение следующей суммы: $\\sum\\limits_{i,j} (T_{ij}-T_{ij} (a))^2$ "
   ]
  },
  {
   "cell_type": "code",
   "execution_count": 11,
   "metadata": {},
   "outputs": [
    {
     "name": "stdout",
     "output_type": "stream",
     "text": [
      "0.0078125\n"
     ]
    }
   ],
   "source": [
    "def R(a):\n",
    "    R=np.zeros([22,22])\n",
    "    Tu=t(a)[-2]\n",
    "    for i in range(22):\n",
    "        for j in range(22):\n",
    "            R[i][j]=(T[i][j]-Tu[i][j])**2\n",
    "        E=np.sum(R[i])\n",
    "    return np.sum(E)\n",
    "Nb=np.array([R(0.),R(1.),0])\n",
    "aleft=0.\n",
    "aright=1.\n",
    "while abs(aleft-aright)>10**(-2):\n",
    "    x=np.arange(aleft,aright,0.001)\n",
    "    a=(aleft+aright)/2\n",
    "    Nb[2]=R(a)\n",
    "    if Nb[2]-Nb[0]>Nb[1]-Nb[0]:\n",
    "        Nb[1]=R(a)\n",
    "        aright=a\n",
    "    else:\n",
    "        Nb[0]=R(a)\n",
    "        aleft=a\n",
    "print(a)"
   ]
  },
  {
   "cell_type": "markdown",
   "metadata": {},
   "source": [
    "Итак, получаем, что оптимальное значение a=0.00785. Т.о. гравитацонная функция с одним параметром будет иметь такой вид:\n",
    "$$F=e^{-0.00785c_{ij}}$$"
   ]
  }
 ],
 "metadata": {
  "kernelspec": {
   "display_name": "Python 3",
   "language": "python",
   "name": "python3"
  },
  "language_info": {
   "codemirror_mode": {
    "name": "ipython",
    "version": 3
   },
   "file_extension": ".py",
   "mimetype": "text/x-python",
   "name": "python",
   "nbconvert_exporter": "python",
   "pygments_lexer": "ipython3",
   "version": "3.7.4"
  }
 },
 "nbformat": 4,
 "nbformat_minor": 2
}
